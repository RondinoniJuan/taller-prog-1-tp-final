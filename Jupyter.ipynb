{
 "cells": [
  {
   "cell_type": "code",
   "execution_count": 7,
   "id": "da08c777-362d-4e24-8e74-f5291178e766",
   "metadata": {},
   "outputs": [
    {
     "name": "stdout",
     "output_type": "stream",
     "text": [
      "Collecting matplotlib\n",
      "  Downloading matplotlib-3.9.2-cp311-cp311-win_amd64.whl.metadata (11 kB)\n",
      "Collecting contourpy>=1.0.1 (from matplotlib)\n",
      "  Downloading contourpy-1.3.0-cp311-cp311-win_amd64.whl.metadata (5.4 kB)\n",
      "Collecting cycler>=0.10 (from matplotlib)\n",
      "  Downloading cycler-0.12.1-py3-none-any.whl.metadata (3.8 kB)\n",
      "Collecting fonttools>=4.22.0 (from matplotlib)\n",
      "  Downloading fonttools-4.54.1-cp311-cp311-win_amd64.whl.metadata (167 kB)\n",
      "     ---------------------------------------- 0.0/167.0 kB ? eta -:--:--\n",
      "     ------------------------------------  163.8/167.0 kB 10.2 MB/s eta 0:00:01\n",
      "     -------------------------------------- 167.0/167.0 kB 2.5 MB/s eta 0:00:00\n",
      "Collecting kiwisolver>=1.3.1 (from matplotlib)\n",
      "  Downloading kiwisolver-1.4.7-cp311-cp311-win_amd64.whl.metadata (6.4 kB)\n",
      "Collecting numpy>=1.23 (from matplotlib)\n",
      "  Downloading numpy-2.1.2-cp311-cp311-win_amd64.whl.metadata (59 kB)\n",
      "     ---------------------------------------- 0.0/59.7 kB ? eta -:--:--\n",
      "     ---------------------------------------- 59.7/59.7 kB 1.6 MB/s eta 0:00:00\n",
      "Requirement already satisfied: packaging>=20.0 in c:\\users\\maria\\appdata\\local\\packages\\pythonsoftwarefoundation.python.3.11_qbz5n2kfra8p0\\localcache\\local-packages\\python311\\site-packages (from matplotlib) (24.0)\n",
      "Collecting pillow>=8 (from matplotlib)\n",
      "  Downloading pillow-11.0.0-cp311-cp311-win_amd64.whl.metadata (9.3 kB)\n",
      "Collecting pyparsing>=2.3.1 (from matplotlib)\n",
      "  Downloading pyparsing-3.2.0-py3-none-any.whl.metadata (5.0 kB)\n",
      "Requirement already satisfied: python-dateutil>=2.7 in c:\\users\\maria\\appdata\\local\\packages\\pythonsoftwarefoundation.python.3.11_qbz5n2kfra8p0\\localcache\\local-packages\\python311\\site-packages (from matplotlib) (2.9.0.post0)\n",
      "Requirement already satisfied: six>=1.5 in c:\\users\\maria\\appdata\\local\\packages\\pythonsoftwarefoundation.python.3.11_qbz5n2kfra8p0\\localcache\\local-packages\\python311\\site-packages (from python-dateutil>=2.7->matplotlib) (1.16.0)\n",
      "Downloading matplotlib-3.9.2-cp311-cp311-win_amd64.whl (7.8 MB)\n",
      "   ---------------------------------------- 0.0/7.8 MB ? eta -:--:--\n",
      "   -- ------------------------------------- 0.4/7.8 MB 9.2 MB/s eta 0:00:01\n",
      "   ---- ----------------------------------- 0.8/7.8 MB 10.6 MB/s eta 0:00:01\n",
      "   ------ --------------------------------- 1.3/7.8 MB 9.2 MB/s eta 0:00:01\n",
      "   -------- ------------------------------- 1.7/7.8 MB 8.8 MB/s eta 0:00:01\n",
      "   ------------ --------------------------- 2.5/7.8 MB 10.0 MB/s eta 0:00:01\n",
      "   -------------- ------------------------- 2.8/7.8 MB 9.5 MB/s eta 0:00:01\n",
      "   ----------------- ---------------------- 3.4/7.8 MB 9.5 MB/s eta 0:00:01\n",
      "   ------------------- -------------------- 3.8/7.8 MB 9.8 MB/s eta 0:00:01\n",
      "   --------------------- ------------------ 4.2/7.8 MB 9.6 MB/s eta 0:00:01\n",
      "   ---------------------- ----------------- 4.5/7.8 MB 9.2 MB/s eta 0:00:01\n",
      "   ----------------------- ---------------- 4.6/7.8 MB 8.5 MB/s eta 0:00:01\n",
      "   ------------------------- -------------- 5.0/7.8 MB 8.4 MB/s eta 0:00:01\n",
      "   --------------------------- ------------ 5.4/7.8 MB 8.3 MB/s eta 0:00:01\n",
      "   ------------------------------ --------- 6.0/7.8 MB 8.3 MB/s eta 0:00:01\n",
      "   ---------------------------------- ----- 6.7/7.8 MB 8.9 MB/s eta 0:00:01\n",
      "   ------------------------------------ --- 7.2/7.8 MB 8.8 MB/s eta 0:00:01\n",
      "   -------------------------------------- - 7.5/7.8 MB 8.7 MB/s eta 0:00:01\n",
      "   ---------------------------------------  7.7/7.8 MB 8.7 MB/s eta 0:00:01\n",
      "   ---------------------------------------  7.8/7.8 MB 8.6 MB/s eta 0:00:01\n",
      "   ---------------------------------------- 7.8/7.8 MB 7.9 MB/s eta 0:00:00\n",
      "Downloading contourpy-1.3.0-cp311-cp311-win_amd64.whl (217 kB)\n",
      "   ---------------------------------------- 0.0/217.2 kB ? eta -:--:--\n",
      "   ---------------------------------------- 217.2/217.2 kB 6.7 MB/s eta 0:00:00\n",
      "Downloading cycler-0.12.1-py3-none-any.whl (8.3 kB)\n",
      "Downloading fonttools-4.54.1-cp311-cp311-win_amd64.whl (2.2 MB)\n",
      "   ---------------------------------------- 0.0/2.2 MB ? eta -:--:--\n",
      "   --------- ------------------------------ 0.5/2.2 MB 16.8 MB/s eta 0:00:01\n",
      "   -------------------- ------------------- 1.1/2.2 MB 14.6 MB/s eta 0:00:01\n",
      "   --------------------------- ------------ 1.5/2.2 MB 10.8 MB/s eta 0:00:01\n",
      "   ------------------------------------- -- 2.1/2.2 MB 11.1 MB/s eta 0:00:01\n",
      "   ---------------------------------------- 2.2/2.2 MB 9.4 MB/s eta 0:00:00\n",
      "Downloading kiwisolver-1.4.7-cp311-cp311-win_amd64.whl (56 kB)\n",
      "   ---------------------------------------- 0.0/56.0 kB ? eta -:--:--\n",
      "   ---------------------------------------- 56.0/56.0 kB 1.4 MB/s eta 0:00:00\n",
      "Downloading numpy-2.1.2-cp311-cp311-win_amd64.whl (12.9 MB)\n",
      "   ---------------------------------------- 0.0/12.9 MB ? eta -:--:--\n",
      "   - -------------------------------------- 0.5/12.9 MB 9.8 MB/s eta 0:00:02\n",
      "   --- ------------------------------------ 1.2/12.9 MB 12.2 MB/s eta 0:00:01\n",
      "   ---- ----------------------------------- 1.5/12.9 MB 10.8 MB/s eta 0:00:02\n",
      "   ----- ---------------------------------- 1.8/12.9 MB 9.0 MB/s eta 0:00:02\n",
      "   ------- -------------------------------- 2.4/12.9 MB 9.7 MB/s eta 0:00:02\n",
      "   -------- ------------------------------- 2.8/12.9 MB 9.2 MB/s eta 0:00:02\n",
      "   --------- ------------------------------ 3.1/12.9 MB 9.1 MB/s eta 0:00:02\n",
      "   ----------- ---------------------------- 3.6/12.9 MB 9.2 MB/s eta 0:00:02\n",
      "   ------------ --------------------------- 4.1/12.9 MB 9.4 MB/s eta 0:00:01\n",
      "   ------------- -------------------------- 4.5/12.9 MB 9.5 MB/s eta 0:00:01\n",
      "   --------------- ------------------------ 4.9/12.9 MB 9.2 MB/s eta 0:00:01\n",
      "   ---------------- ----------------------- 5.3/12.9 MB 9.1 MB/s eta 0:00:01\n",
      "   ------------------ --------------------- 5.8/12.9 MB 9.3 MB/s eta 0:00:01\n",
      "   ------------------- -------------------- 6.1/12.9 MB 9.1 MB/s eta 0:00:01\n",
      "   -------------------- ------------------- 6.6/12.9 MB 9.2 MB/s eta 0:00:01\n",
      "   --------------------- ------------------ 6.9/12.9 MB 9.0 MB/s eta 0:00:01\n",
      "   ---------------------- ----------------- 7.4/12.9 MB 9.0 MB/s eta 0:00:01\n",
      "   ------------------------ --------------- 7.8/12.9 MB 9.1 MB/s eta 0:00:01\n",
      "   -------------------------- ------------- 8.4/12.9 MB 9.3 MB/s eta 0:00:01\n",
      "   --------------------------- ------------ 8.9/12.9 MB 9.3 MB/s eta 0:00:01\n",
      "   ----------------------------- ---------- 9.5/12.9 MB 9.4 MB/s eta 0:00:01\n",
      "   ------------------------------- -------- 10.1/12.9 MB 9.5 MB/s eta 0:00:01\n",
      "   -------------------------------- ------- 10.6/12.9 MB 9.5 MB/s eta 0:00:01\n",
      "   ---------------------------------- ----- 11.1/12.9 MB 9.4 MB/s eta 0:00:01\n",
      "   ------------------------------------ --- 11.6/12.9 MB 9.2 MB/s eta 0:00:01\n",
      "   ------------------------------------- -- 12.1/12.9 MB 9.5 MB/s eta 0:00:01\n",
      "   ---------------------------------------  12.6/12.9 MB 9.5 MB/s eta 0:00:01\n",
      "   ---------------------------------------  12.9/12.9 MB 9.8 MB/s eta 0:00:01\n",
      "   ---------------------------------------  12.9/12.9 MB 9.8 MB/s eta 0:00:01\n",
      "   ---------------------------------------- 12.9/12.9 MB 9.1 MB/s eta 0:00:00\n",
      "Downloading pillow-11.0.0-cp311-cp311-win_amd64.whl (2.6 MB)\n",
      "   ---------------------------------------- 0.0/2.6 MB ? eta -:--:--\n",
      "   ------- -------------------------------- 0.5/2.6 MB 15.5 MB/s eta 0:00:01\n",
      "   --------------- ------------------------ 1.0/2.6 MB 12.6 MB/s eta 0:00:01\n",
      "   ----------------------- ---------------- 1.5/2.6 MB 12.1 MB/s eta 0:00:01\n",
      "   ------------------------------ --------- 1.9/2.6 MB 10.2 MB/s eta 0:00:01\n",
      "   ---------------------------------- ----- 2.2/2.6 MB 10.0 MB/s eta 0:00:01\n",
      "   ---------------------------------------  2.6/2.6 MB 9.6 MB/s eta 0:00:01\n",
      "   ---------------------------------------- 2.6/2.6 MB 8.6 MB/s eta 0:00:00\n",
      "Downloading pyparsing-3.2.0-py3-none-any.whl (106 kB)\n",
      "   ---------------------------------------- 0.0/106.9 kB ? eta -:--:--\n",
      "   ---------------------------------------- 106.9/106.9 kB 3.1 MB/s eta 0:00:00\n",
      "Installing collected packages: pyparsing, pillow, numpy, kiwisolver, fonttools, cycler, contourpy, matplotlib\n",
      "Successfully installed contourpy-1.3.0 cycler-0.12.1 fonttools-4.54.1 kiwisolver-1.4.7 matplotlib-3.9.2 numpy-2.1.2 pillow-11.0.0 pyparsing-3.2.0\n"
     ]
    },
    {
     "name": "stderr",
     "output_type": "stream",
     "text": [
      "\n",
      "[notice] A new release of pip is available: 24.0 -> 24.3.1\n",
      "[notice] To update, run: C:\\Users\\maria\\AppData\\Local\\Microsoft\\WindowsApps\\PythonSoftwareFoundation.Python.3.11_qbz5n2kfra8p0\\python.exe -m pip install --upgrade pip\n"
     ]
    }
   ],
   "source": [
    "!pip install matplotlib"
   ]
  },
  {
   "cell_type": "code",
   "execution_count": 8,
   "id": "77f180a9-d020-4d79-8788-b0e6fe72f1a4",
   "metadata": {
    "scrolled": true
   },
   "outputs": [],
   "source": [
    "import matplotlib.pyplot as plt"
   ]
  },
  {
   "cell_type": "code",
   "execution_count": 9,
   "id": "073e5b1f-f97e-46f6-b003-a108a7fd1f07",
   "metadata": {},
   "outputs": [
    {
     "ename": "NameError",
     "evalue": "name 'ip_counts' is not defined",
     "output_type": "error",
     "traceback": [
      "\u001b[1;31m---------------------------------------------------------------------------\u001b[0m",
      "\u001b[1;31mNameError\u001b[0m                                 Traceback (most recent call last)",
      "Cell \u001b[1;32mIn[9], line 1\u001b[0m\n\u001b[1;32m----> 1\u001b[0m ip_labels, ip_values \u001b[38;5;241m=\u001b[39m \u001b[38;5;28mzip\u001b[39m(\u001b[38;5;241m*\u001b[39m\u001b[43mip_counts\u001b[49m\u001b[38;5;241m.\u001b[39mitems())\n\u001b[0;32m      2\u001b[0m plt\u001b[38;5;241m.\u001b[39mbar(ip_labels, ip_values)\n\u001b[0;32m      3\u001b[0m plt\u001b[38;5;241m.\u001b[39mxticks(rotation\u001b[38;5;241m=\u001b[39m\u001b[38;5;241m90\u001b[39m)\n",
      "\u001b[1;31mNameError\u001b[0m: name 'ip_counts' is not defined"
     ]
    }
   ],
   "source": [
    "ip_labels, ip_values = zip(*ip_counts.items())\n",
    "plt.bar(ip_labels, ip_values)\n",
    "plt.xticks(rotation=90)\n",
    "plt.xlabel('IP')\n",
    "plt.ylabel('Cantidad de accesos')\n",
    "plt.title('Accesos por IP')\n",
    "plt.show()"
   ]
  },
  {
   "cell_type": "code",
   "execution_count": null,
   "id": "ba7ab513-b41e-4ff2-aa33-a55654d59840",
   "metadata": {},
   "outputs": [],
   "source": [
    "code_counts = Counter(codes)\n",
    "labels, sizes = zip(*code_counts.items())\n",
    "plt.pie(sizes, labels=labels, autopct='%1.1f%%', startangle=90)\n",
    "plt.axis('equal')\n",
    "plt.title('Proporción de códigos HTTP')\n",
    "plt.show()"
   ]
  }
 ],
 "metadata": {
  "kernelspec": {
   "display_name": "Python 3 (ipykernel)",
   "language": "python",
   "name": "python3"
  },
  "language_info": {
   "codemirror_mode": {
    "name": "ipython",
    "version": 3
   },
   "file_extension": ".py",
   "mimetype": "text/x-python",
   "name": "python",
   "nbconvert_exporter": "python",
   "pygments_lexer": "ipython3",
   "version": "3.11.9"
  }
 },
 "nbformat": 4,
 "nbformat_minor": 5
}
